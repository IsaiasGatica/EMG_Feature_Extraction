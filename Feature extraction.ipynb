{
 "cells": [
  {
   "cell_type": "code",
   "execution_count": null,
   "metadata": {},
   "outputs": [],
   "source": [
    "from Funciones import*"
   ]
  },
  {
   "cell_type": "markdown",
   "metadata": {},
   "source": [
    "## Cargo datos EMGRecord V0 \n"
   ]
  },
  {
   "cell_type": "code",
   "execution_count": null,
   "metadata": {},
   "outputs": [],
   "source": [
    "\n",
    "archivos_CSV = [\n",
    "    'Records/Indice.csv', 'Records/Medio.csv', 'Records/Anular.csv', 'Records/Meñique.csv', 'Records/Pulgar.csv','Records/Puño.csv','Records/Puño Flexionado.csv'\n",
    "]\n",
    "\n",
    "# Cargar los datos desde los archivos\n",
    "dataframeRaw = cargar_datos_desde_archivos(archivos_CSV)\n"
   ]
  },
  {
   "cell_type": "code",
   "execution_count": null,
   "metadata": {},
   "outputs": [],
   "source": [
    "\n",
    "graficar_df(dataframeRaw)"
   ]
  },
  {
   "cell_type": "markdown",
   "metadata": {},
   "source": [
    "##  Cargo datos de ZEMG V1.1"
   ]
  },
  {
   "cell_type": "code",
   "execution_count": null,
   "metadata": {},
   "outputs": [],
   "source": [
    "import csv\n",
    "def cargar_matriz_desde_csv(nombre_archivo):\n",
    "    matriz = []\n",
    "    with open(nombre_archivo, 'r') as file:\n",
    "        reader = csv.reader(file)\n",
    "        for fila in reader:\n",
    "            matriz.append([float(elemento) for elemento in fila])\n",
    "    return matriz\n",
    "\n",
    "# Cargar las matrices desde los archivos CSV\n",
    "matriz_anular_V2 = cargar_matriz_desde_csv('RecordsV2/Matriz_Anular_V2.csv')\n",
    "matriz_indice_V2 = cargar_matriz_desde_csv('RecordsV2/Matriz_Indice_V2.csv')\n",
    "matriz_medio_V2 = cargar_matriz_desde_csv('RecordsV2/Matriz_Medio_V2.csv')\n",
    "\n",
    "\n",
    "def procesar_matriz(matriz):\n",
    "    # Encuentra la longitud máxima de las sublistas\n",
    "    longitud_maxima = max(len(sublista) for sublista in matriz)\n",
    "\n",
    "    # Rellena las sublistas con ceros para que tengan la misma longitud\n",
    "    matriz_corregida = [sublista + [0] * (longitud_maxima - len(sublista)) for sublista in matriz]\n",
    "\n",
    "    # Convierte la lista corregida en una matriz de numpy\n",
    "    matriz_np = np.array(matriz_corregida, dtype=float)\n",
    "\n",
    "    # Elimina la primera columna\n",
    "    matriz_np_sin_primera_fila = np.delete(matriz_np, 0, axis=0)\n",
    "\n",
    "    # Reemplaza los NaN con 0\n",
    "    matriz_procesada = np.nan_to_num(matriz_np_sin_primera_fila, nan=0.0)\n",
    "\n",
    "    return matriz_procesada\n",
    "\n",
    "matriz_anular_V2 = procesar_matriz(matriz_anular_V2)\n",
    "matriz_medio_V2 = procesar_matriz(matriz_medio_V2)\n",
    "matriz_indice_V2= procesar_matriz(matriz_indice_V2)\n",
    "\n",
    "\n",
    "matriz_anular_V2= matriz_anular_V2[:, :-15]\n",
    "matriz_medio_V2 = matriz_medio_V2 [:, :-15]\n",
    "matriz_indice_V2= matriz_indice_V2[:, :-15]\n"
   ]
  },
  {
   "cell_type": "markdown",
   "metadata": {},
   "source": [
    "### Tratamiento de datos"
   ]
  },
  {
   "cell_type": "code",
   "execution_count": null,
   "metadata": {},
   "outputs": [],
   "source": [
    "# Utilizo los datos obtenidos de ZEMG V1.1\n",
    "\n",
    "muestras_rango_anular = []\n",
    "muestras_rango_indice = []\n",
    "muestras_rango_medio = []\n",
    "\n",
    "\n",
    "\n",
    "muestras_rango_anular =matriz_anular_V2\n",
    "muestras_rango_indice =matriz_indice_V2 \n",
    "muestras_rango_medio = matriz_medio_V2"
   ]
  },
  {
   "cell_type": "markdown",
   "metadata": {},
   "source": [
    "## Transformada Wavelet"
   ]
  },
  {
   "cell_type": "markdown",
   "metadata": {},
   "source": [
    "### Obtención de coeficientes Wavelet"
   ]
  },
  {
   "cell_type": "code",
   "execution_count": null,
   "metadata": {},
   "outputs": [],
   "source": [
    "\n",
    "coefs_anulares = []\n",
    "coefs_indice = []\n",
    "coefs_medio = []\n",
    "\n",
    "wavelet = 'coif6' \n",
    "nivel_descomposicion = 3  \n",
    "\n",
    "\n",
    "\n",
    "for muestras_rango in muestras_rango_anular:\n",
    "    coeficientes = transformadaWavelet(muestras_rango,wavelet,nivel_descomposicion)\n",
    "    coefs_anulares.append(coeficientes)\n",
    "\n",
    "for muestras_rango in muestras_rango_indice:\n",
    "    coeficientes = transformadaWavelet(muestras_rango,wavelet,nivel_descomposicion)\n",
    "    coefs_indice.append(coeficientes)\n",
    "\n",
    "for muestras_rango in muestras_rango_medio:\n",
    "    coeficientes = transformadaWavelet(muestras_rango,wavelet,nivel_descomposicion)\n",
    "    coefs_medio.append(coeficientes)\n"
   ]
  },
  {
   "cell_type": "markdown",
   "metadata": {},
   "source": [
    "### Gráficos Wavelet"
   ]
  },
  {
   "cell_type": "code",
   "execution_count": null,
   "metadata": {},
   "outputs": [],
   "source": [
    "\n",
    "graficar_coeficientes_subplot(coefs_anulares[0])\n",
    "graficar_coeficientes_subplot(coefs_anulares[1])\n",
    "graficar_coeficientes_subplot(coefs_anulares[2])\n",
    "\n",
    "\n",
    "# graficar_coeficientes(coefs_anulares[0][0],coefs_anulares[1][0],coefs_anulares[2][0])\n",
    "# graficar_coeficientes(coefs_indice[0][0],coefs_indice[1][0],coefs_indice[2][0])\n",
    "# graficar_coeficientes(coefs_medio[0][0],coefs_medio[1][0],coefs_medio[2][0])\n",
    "# graficar_coeficientes(coefs_anulares[0][1],coefs_anulares[1][1],coefs_anulares[2][1])\n"
   ]
  },
  {
   "cell_type": "markdown",
   "metadata": {},
   "source": [
    "### Reconstrucción Wavelet"
   ]
  },
  {
   "cell_type": "code",
   "execution_count": null,
   "metadata": {
    "tags": []
   },
   "outputs": [],
   "source": [
    "\n",
    "recons_anular = []\n",
    "recons_indice = []\n",
    "recons_medio = []\n",
    "\n",
    "for coefs in coefs_anulares:\n",
    "    senal_recons = reconstruccionWavelet(coefs,wavelet)\n",
    "    recons_anular.append(senal_recons)\n",
    "\n",
    "for coefs in coefs_indice:\n",
    "    senal_recons = reconstruccionWavelet(coefs,wavelet)\n",
    "    recons_indice.append(senal_recons)\n",
    "\n",
    "for coefs in coefs_medio:\n",
    "    senal_recons = reconstruccionWavelet(coefs,wavelet)\n",
    "    recons_medio.append(senal_recons)\n",
    "\n",
    "\n",
    "grafico_comp2(recons_anular[0],muestras_rango_anular[0])\n",
    "grafico_comp2(recons_indice[1],muestras_rango_indice[1])\n",
    "grafico_comp2(recons_anular[2],muestras_rango_anular[2])\n",
    "\n"
   ]
  },
  {
   "cell_type": "markdown",
   "metadata": {},
   "source": [
    "### Características"
   ]
  },
  {
   "cell_type": "code",
   "execution_count": null,
   "metadata": {},
   "outputs": [],
   "source": [
    "\n",
    "recons_anular = []\n",
    "recons_indice = []\n",
    "recons_medio = []\n",
    "\n",
    "for coefs in coefs_anulares:\n",
    "    senal_recons = reconstruccionWavelet(coefs,wavelet)\n",
    "    recons_anular.append(senal_recons)\n",
    "\n",
    "for coefs in coefs_indice:\n",
    "    senal_recons = reconstruccionWavelet(coefs,wavelet)\n",
    "    recons_indice.append(senal_recons)\n",
    "\n",
    "for coefs in coefs_medio:\n",
    "    senal_recons = reconstruccionWavelet(coefs,wavelet)\n",
    "    recons_medio.append(senal_recons)\n",
    "\n",
    "grafico_comp2(recons_anular[0],muestras_rango_anular[0])\n",
    "# grafico_comp2(recons_indice[1],muestras_rango_indice[1])\n",
    "# grafico_comp2(recons_anular[2],muestras_rango_anular[2])"
   ]
  },
  {
   "cell_type": "code",
   "execution_count": null,
   "metadata": {},
   "outputs": [],
   "source": [
    "\n",
    "datos_analizar = [recons_anular,recons_indice,recons_medio]\n",
    "\n",
    "caract_MAV = calcular_caracteristica_lista(datos_analizar, calcular_MAV)\n",
    "caract_STD = calcular_caracteristica_lista(datos_analizar, calcular_STD)\n",
    "caract_RMS = calcular_caracteristica_lista(datos_analizar, calcular_RMS)\n",
    "caract_VAR = calcular_caracteristica_lista(datos_analizar, calcular_VAR)\n",
    "caract_WL = calcular_caracteristica_lista(datos_analizar, calcular_WL)\n",
    "caract_DMAV = calcular_caracteristica_lista(datos_analizar, calcular_DMAV)\n",
    "caract_SSC = calcular_caracteristica_lista(datos_analizar, calcular_SSC)\n",
    "\n"
   ]
  },
  {
   "cell_type": "markdown",
   "metadata": {},
   "source": [
    "# Tratamiento para red neuronal"
   ]
  },
  {
   "cell_type": "code",
   "execution_count": null,
   "metadata": {},
   "outputs": [],
   "source": [
    "\n",
    "# Crear un DataFrame\n",
    "df = pd.DataFrame({\n",
    "    'MAV': caract_MAV[0] + caract_MAV[1] + caract_MAV[2],\n",
    "    'STD': caract_STD[0] + caract_STD[1] + caract_STD[2],\n",
    "    'RMS': caract_RMS[0] + caract_RMS[1] + caract_RMS[2],\n",
    "    'VAR': caract_VAR[0] + caract_VAR[1] + caract_VAR[2],\n",
    "    'WL': caract_WL[0] + caract_WL[1] + caract_WL[2],\n",
    "    'DMAV': caract_DMAV[0] + caract_DMAV[1] + caract_DMAV[2],\n",
    "    'SSC': caract_SSC[0] + caract_SSC[1] + caract_SSC[2],\n",
    "    'Dedo': (['Anular'] * 20 + ['Índice'] * 20 + ['Medio'] * 20)\n",
    "})\n"
   ]
  },
  {
   "cell_type": "markdown",
   "metadata": {},
   "source": [
    "### Exportar dataframe de las características de la señal"
   ]
  },
  {
   "cell_type": "code",
   "execution_count": null,
   "metadata": {},
   "outputs": [],
   "source": [
    "df.to_csv('CaracteristicasCSV\\caracteristicasV5.csv', index=False)"
   ]
  }
 ],
 "metadata": {
  "kernelspec": {
   "display_name": "Python 3",
   "language": "python",
   "name": "python3"
  },
  "language_info": {
   "codemirror_mode": {
    "name": "ipython",
    "version": 3
   },
   "file_extension": ".py",
   "mimetype": "text/x-python",
   "name": "python",
   "nbconvert_exporter": "python",
   "pygments_lexer": "ipython3",
   "version": "3.11.6"
  }
 },
 "nbformat": 4,
 "nbformat_minor": 2
}
