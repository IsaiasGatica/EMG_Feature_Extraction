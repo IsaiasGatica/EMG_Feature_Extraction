{
  "cells": [
    {
      "cell_type": "markdown",
      "metadata": {
        "id": "HcORUdV-4ui0"
      },
      "source": [
        "# Analisis de señales raw\n",
        "### ZEMG V1.0"
      ]
    },
    {
      "cell_type": "code",
      "execution_count": null,
      "metadata": {
        "id": "JLqOqXz34ui1"
      },
      "outputs": [],
      "source": [
        "from Funciones import*"
      ]
    },
    {
      "cell_type": "code",
      "execution_count": null,
      "metadata": {
        "id": "et0hsCzD4ui2"
      },
      "outputs": [],
      "source": [
        "\n",
        "# Lista de nombres de archivos CSV que deseas graficar juntos\n",
        "archivos_CSV = [\n",
        "    'Records/Indice.csv', 'Records/Medio.csv', 'Records/Anular.csv', 'Records/Meñique.csv', 'Records/Pulgar.csv','Records/Puño.csv','Records/Puño Flexionado.csv'\n",
        "]\n",
        "\n",
        "# Cargar los datos desde los archivos\n",
        "dataframeRaw = cargar_datos_desde_archivos(archivos_CSV)\n",
        "\n"
      ]
    },
    {
      "cell_type": "markdown",
      "metadata": {
        "id": "3G87Ocf_4ui2"
      },
      "source": [
        "## Graficos de la señal cruda de cada dedo y de la movmean"
      ]
    },
    {
      "cell_type": "code",
      "execution_count": null,
      "metadata": {
        "colab": {
          "base_uri": "https://localhost:8080/",
          "height": 542
        },
        "id": "5E2NSwte4ui2",
        "outputId": "907bd3ab-1366-4faf-c46c-4b1acae6c6b8"
      },
      "outputs": [],
      "source": [
        "\n",
        "graficar_df(dataframeRaw)"
      ]
    },
    {
      "cell_type": "markdown",
      "metadata": {
        "id": "mzu67yLD4ui2"
      },
      "source": [
        "## Transformada Wavelet"
      ]
    },
    {
      "cell_type": "markdown",
      "metadata": {
        "id": "dTZDynMX4ui3"
      },
      "source": [
        "### Muestreo de datos"
      ]
    },
    {
      "cell_type": "code",
      "execution_count": null,
      "metadata": {
        "id": "_U6XbrnW4ui3"
      },
      "outputs": [],
      "source": [
        "rangos_anular = [\n",
        "    (320, 370), (444, 500), (560, 618),\n",
        "    (680, 740), (800, 870), (920, 990),\n",
        "    (1050, 1115)\n",
        "]\n",
        "\n",
        "rangos_indice = [\n",
        "    (190, 240), (327, 380), (460, 520),\n",
        "    (590, 650), (740, 800), (870, 930),\n",
        "    (1000, 1070)\n",
        "]\n",
        "\n",
        "rangos_medio = [\n",
        "    (190, 240), (300, 360), (430, 490),\n",
        "    (550, 600), (670, 720), (790, 835),\n",
        "    (900, 950)\n",
        "]\n",
        "\n",
        "muestras_rango_anular = []\n",
        "muestras_rango_indice = []\n",
        "muestras_rango_medio = []\n",
        "\n",
        "\n",
        "muestras_rango_anular = obtener_muestras(dataframeRaw, \"Anular\", rangos_anular)\n",
        "\n",
        "muestras_rango_indice = obtener_muestras(dataframeRaw, \"Indice\", rangos_indice)\n",
        "\n",
        "muestras_rango_medio = obtener_muestras(dataframeRaw, \"Medio\", rangos_medio)\n",
        "\n"
      ]
    },
    {
      "cell_type": "markdown",
      "metadata": {
        "id": "3ZCFOugs4ui3"
      },
      "source": [
        "### Transformada Wavelet"
      ]
    },
    {
      "cell_type": "markdown",
      "metadata": {
        "id": "mU6tiTl94ui3"
      },
      "source": [
        "### Obtención de coeficientes Wavelet"
      ]
    },
    {
      "cell_type": "code",
      "execution_count": null,
      "metadata": {
        "colab": {
          "base_uri": "https://localhost:8080/"
        },
        "id": "NoQvRRVl4ui3",
        "outputId": "f7970ed8-6810-4a4f-f481-d6ecdaa6908b"
      },
      "outputs": [],
      "source": [
        "\n",
        "coefs_anulares = []\n",
        "coefs_indice = []\n",
        "coefs_medio = []\n",
        "\n",
        "wavelet = 'coif6'\n",
        "nivel_descomposicion = 4\n",
        "\n",
        "\n",
        "\n",
        "for muestras_rango in muestras_rango_anular:\n",
        "    coeficientes = transformadaWavelet(muestras_rango,wavelet,nivel_descomposicion)\n",
        "    coefs_anulares.append(coeficientes)\n",
        "\n",
        "for muestras_rango in muestras_rango_indice:\n",
        "    coeficientes = transformadaWavelet(muestras_rango,wavelet,nivel_descomposicion)\n",
        "    coefs_indice.append(coeficientes)\n",
        "\n",
        "for muestras_rango in muestras_rango_medio:\n",
        "    coeficientes = transformadaWavelet(muestras_rango,wavelet,nivel_descomposicion)\n",
        "    coefs_medio.append(coeficientes)\n",
        "\n"
      ]
    },
    {
      "cell_type": "markdown",
      "metadata": {
        "id": "BvjM3Dnx4ui3"
      },
      "source": [
        "### Gráficos Wavelet"
      ]
    },
    {
      "cell_type": "code",
      "execution_count": null,
      "metadata": {
        "colab": {
          "base_uri": "https://localhost:8080/",
          "height": 1000
        },
        "id": "96nEyulZ4ui3",
        "outputId": "1997bfa5-5a2b-4315-e475-e407181a01a0"
      },
      "outputs": [],
      "source": [
        "\n",
        "graficar_coeficientes_subplot(coefs_anulares[0])\n",
        "graficar_coeficientes_subplot(coefs_anulares[1])\n",
        "graficar_coeficientes_subplot(coefs_anulares[2])\n",
        "\n",
        "\n",
        "\n",
        "\n",
        "# graficar_coeficientes(coefs_anulares[0][0],coefs_anulares[1][0],coefs_anulares[2][0])\n",
        "# graficar_coeficientes(coefs_indice[0][0],coefs_indice[1][0],coefs_indice[2][0])\n",
        "# graficar_coeficientes(coefs_medio[0][0],coefs_medio[1][0],coefs_medio[2][0])\n",
        "# graficar_coeficientes(coefs_anulares[0][1],coefs_anulares[1][1],coefs_anulares[2][1])\n",
        "\n",
        "\n"
      ]
    },
    {
      "cell_type": "markdown",
      "metadata": {
        "id": "YH734efI4ui4"
      },
      "source": [
        "### Reconstrucción Wavelet"
      ]
    },
    {
      "cell_type": "code",
      "execution_count": null,
      "metadata": {
        "colab": {
          "base_uri": "https://localhost:8080/",
          "height": 1000
        },
        "id": "RT87JFuO4ui4",
        "outputId": "a23c6005-31ec-4d30-fdd9-012d30855f5a",
        "tags": []
      },
      "outputs": [],
      "source": [
        "\n",
        "recons_anular = []\n",
        "recons_indice = []\n",
        "recons_medio = []\n",
        "\n",
        "for coefs in coefs_anulares:\n",
        "    senal_recons = reconstruccionWavelet(coefs,wavelet)\n",
        "    recons_anular.append(senal_recons)\n",
        "\n",
        "for coefs in coefs_indice:\n",
        "    senal_recons = reconstruccionWavelet(coefs,wavelet)\n",
        "    recons_indice.append(senal_recons)\n",
        "\n",
        "for coefs in coefs_medio:\n",
        "    senal_recons = reconstruccionWavelet(coefs,wavelet)\n",
        "    recons_medio.append(senal_recons)\n",
        "\n",
        "\n",
        "grafico_comp2(recons_anular[0],muestras_rango_anular[0])\n",
        "grafico_comp2(recons_indice[1],muestras_rango_indice[1])\n",
        "grafico_comp2(recons_anular[2],muestras_rango_anular[2])\n",
        "\n"
      ]
    },
    {
      "cell_type": "markdown",
      "metadata": {
        "id": "pDHIrp5i4ui4"
      },
      "source": [
        "### Características"
      ]
    },
    {
      "cell_type": "code",
      "execution_count": null,
      "metadata": {
        "id": "rZzvi3lo4ui4"
      },
      "outputs": [],
      "source": [
        "\n",
        "MAV_anular = []\n",
        "MAV_indice = []\n",
        "MAV_medio = []\n",
        "\n",
        "\n",
        "MAV_anular = [calcular_MAV(valores) for valores in recons_anular]\n",
        "MAV_indice = [calcular_MAV(valores) for valores in recons_indice]\n",
        "MAV_medio = [calcular_MAV(valores) for valores in recons_medio]\n",
        "\n",
        "\n",
        "\n",
        "\n",
        "STD_anular = [calcular_STD(valores) for valores in recons_anular]\n",
        "STD_indice = [calcular_STD(valores) for valores in recons_indice]\n",
        "STD_medio = [calcular_STD(valores) for valores in recons_medio]\n",
        "\n",
        "\n",
        "\n",
        "RMS_anular = [calcular_RMS(valores) for valores in recons_anular]\n",
        "RMS_indice = [calcular_RMS(valores) for valores in recons_indice]\n",
        "RMS_medio = [calcular_RMS(valores) for valores in recons_medio]\n",
        "\n",
        "VAR_anular = [calcular_VAR(valores) for valores in recons_anular]\n",
        "VAR_indice = [calcular_VAR(valores) for valores in recons_indice]\n",
        "VAR_medio = [calcular_VAR(valores) for valores in recons_medio]\n",
        "\n",
        "WL_anular = [calcular_WL(valores) for valores in recons_anular]\n",
        "WL_indice = [calcular_WL(valores) for valores in recons_indice]\n",
        "WL_medio = [calcular_WL(valores) for valores in recons_medio]\n",
        "\n",
        "DMAV_anular = [calcular_DMAV(valores) for valores in recons_anular]\n",
        "DMAV_indice = [calcular_DMAV(valores) for valores in recons_indice]\n",
        "DMAV_medio = [calcular_DMAV(valores) for valores in recons_medio]\n",
        "\n",
        "SSC_anular_raw = [calcular_SSC(valores) for valores in coefs_anulares[0]]\n",
        "SSC_indice_raw = [calcular_SSC(valores) for valores in coefs_indice[0]]\n",
        "SSC_medio_raw = [calcular_SSC(valores) for valores in coefs_medio[0]]\n",
        "\n",
        "from statistics import mean\n",
        "\n",
        "pruebaSSC0 = calcular_SSC(muestras_rango_medio[0])\n",
        "pruebaSSC1 = calcular_SSC(muestras_rango_medio[1])\n",
        "pruebaSSC2 = calcular_SSC(muestras_rango_medio[2])\n",
        "pruebaSSC3 = calcular_SSC(muestras_rango_medio[3])\n",
        "pruebaSSC4 = calcular_SSC(muestras_rango_medio[4])\n",
        "pruebaSSC5 = calcular_SSC(muestras_rango_medio[5])\n",
        "pruebaSSC6 = calcular_SSC(muestras_rango_medio[6])\n",
        "\n",
        "pruebalist = [pruebaSSC0,pruebaSSC1,pruebaSSC2,pruebaSSC3,pruebaSSC4,pruebaSSC5,pruebaSSC6]\n",
        "\n",
        "promedio = mean(pruebalist)\n",
        "# pruebamSSC0 = calcular_SSC(coefs_medio[0][1])\n",
        "# pruebamSSC1 = calcular_SSC(coefs_medio[1][1])\n",
        "# # pruebamSSC2 = calcular_SSC(coefs_medio[2][0])\n",
        "\n",
        "# # pruebamSSC0 = calcular_SSC(coefs_medio[1][0])\n",
        "# # pruebamSSC1 = calcular_SSC(coefs_medio[1][1])\n",
        "\n",
        "# pruebaiSSC0 = calcular_SSC(coefs_indice[0][1])\n",
        "# pruebaiSSC1 = calcular_SSC(coefs_indice[1][1])\n",
        "\n",
        "print(pruebaSSC0)\n",
        "print(pruebaSSC1)\n",
        "print(pruebaSSC2)\n",
        "print(pruebaSSC3)\n",
        "print(pruebaSSC4)\n",
        "print(pruebaSSC5)\n",
        "print(pruebaSSC6)\n",
        "print(promedio)\n",
        "\n",
        "# print(pruebamSSC0)\n",
        "# print(pruebamSSC1)\n",
        "# # print(pruebamSSC2)\n",
        "# print(pruebaiSSC0)\n",
        "# print(pruebaiSSC1)\n",
        "\n",
        "SSC_anular = [calcular_SSC(valores) for valores in recons_anular ]\n",
        "SSC_indice = [calcular_SSC(valores) for valores in recons_indice]\n",
        "SSC_medio = [calcular_SSC(valores) for valores in recons_medio]\n",
        "\n",
        "\n",
        "graficar_listas(MAV_anular, MAV_indice, MAV_medio, names=[\"Anular\",\"Indice\",\"Medio\"],titulo=\"MAV\")\n",
        "graficar_listas(STD_anular, STD_indice, STD_medio, names=[\"Anular\",\"Indice\", \"Medio\"],titulo=\"STD\")\n",
        "graficar_listas(RMS_anular, RMS_indice, RMS_medio, names=[\"Anular\",\"Indice\", \"Medio\"],titulo=\"RMS\")\n",
        "graficar_listas(VAR_anular, VAR_indice, VAR_medio, names=[\"Anular\",\"Indice\", \"Medio\"],titulo=\"VAR\")\n",
        "graficar_listas(WL_anular, WL_indice, WL_medio, names=[\"Anular\",\"Indice\", \"Medio\"],titulo=\"WL\")\n",
        "graficar_listas(DMAV_anular, DMAV_indice, DMAV_medio, names=[\"Anular\",\"Indice\", \"Medio\"],titulo=\"DMAV\")\n",
        "graficar_listas(SSC_anular, SSC_indice, SSC_medio,SSC_anular_raw, SSC_indice_raw, SSC_medio_raw, names=[\"Anular\",\"Indice\", \"Medio\",\"Anular raw\",\"Indice raw\", \"Medio raw\"],titulo=\"SSC\")\n",
        "\n",
        "\n",
        "\n"
      ]
    },
    {
      "cell_type": "code",
      "execution_count": null,
      "metadata": {
        "id": "HSbYKzJT5UkG"
      },
      "outputs": [],
      "source": [
        "from sklearn.model_selection import train_test_split\n",
        "from sklearn.preprocessing import MinMaxScaler\n",
        "# Crear un DataFrame\n",
        "df = pd.DataFrame({\n",
        "    'MAV': MAV_anular + MAV_indice + MAV_medio,\n",
        "    'STD': MAV_anular + MAV_indice + MAV_medio,\n",
        "    'RMS': MAV_anular + MAV_indice + MAV_medio,\n",
        "    'VAR': MAV_anular + MAV_indice + MAV_medio,\n",
        "    'WL': MAV_anular + MAV_indice + MAV_medio,\n",
        "    'DMAV': MAV_anular + MAV_indice + MAV_medio,\n",
        "    'SSC': MAV_anular + MAV_indice + MAV_medio,\n",
        "    'Dedo': (['Anular'] * 7 + ['Índice'] * 7 + ['Medio'] * 7)\n",
        "})\n",
        "\n",
        "# Codificación one-hot para la columna \"Dedo\"\n",
        "df_encoded = pd.get_dummies(df, columns=['Dedo'])\n",
        "\n",
        "# Separar características y etiquetas\n",
        "X = df_encoded[['MAV', 'STD', 'RMS', 'VAR', 'WL', 'DMAV', 'SSC']]\n",
        "y = df_encoded[['Dedo_Anular', 'Dedo_Índice', 'Dedo_Medio']]\n",
        "\n",
        "# Normalización de características\n",
        "scaler = MinMaxScaler()\n",
        "X_normalized = scaler.fit_transform(X)\n",
        "\n",
        "# Dividir el conjunto de datos\n",
        "X_train, X_test, y_train, y_test = train_test_split(X_normalized, y, test_size=0.3, random_state=42)"
      ]
    },
    {
      "cell_type": "code",
      "execution_count": null,
      "metadata": {
        "colab": {
          "base_uri": "https://localhost:8080/"
        },
        "id": "kD0hj-oh5Wuz",
        "outputId": "11d6f448-3810-48df-b49a-a83f3d5f0b9d"
      },
      "outputs": [],
      "source": [
        "import tensorflow as tf\n",
        "from tensorflow.keras.models import Sequential\n",
        "from tensorflow.keras.layers import Dense\n",
        "\n",
        "# Definir la arquitectura de la red neuronal\n",
        "model = Sequential()\n",
        "model.add(Dense(64, input_dim=7, activation='relu'))  # 7 características de entrada\n",
        "model.add(Dense(32, activation='relu'))\n",
        "model.add(Dense(3, activation='softmax'))  # 3 neuronas en la capa de salida para las clases\n",
        "\n",
        "# Compilar el modelo\n",
        "model.compile(optimizer='adam', loss='categorical_crossentropy', metrics=['accuracy'])\n",
        "\n",
        "# Entrenar el modelo\n",
        "historial=model.fit(X_train, y_train, epochs=1000, batch_size=8, validation_data=(X_test, y_test))\n"
      ]
    },
    {
      "cell_type": "code",
      "execution_count": null,
      "metadata": {
        "colab": {
          "base_uri": "https://localhost:8080/",
          "height": 447
        },
        "id": "3u9YUYoJ6L9e",
        "outputId": "02d1730a-09c2-4a8a-e891-4aea027830ad"
      },
      "outputs": [],
      "source": [
        "import matplotlib.pyplot as plt\n",
        "plt.plot(historial.history[\"loss\"])\n"
      ]
    },
    {
      "cell_type": "code",
      "execution_count": null,
      "metadata": {
        "colab": {
          "base_uri": "https://localhost:8080/"
        },
        "id": "0XB_rciI7iT8",
        "outputId": "e67efc7d-19b0-46a1-e204-75f9f72afe9d"
      },
      "outputs": [],
      "source": [
        "from sklearn.metrics import accuracy_score\n",
        "import numpy as np\n",
        "\n",
        "y_pred = model.predict(X_test)\n",
        "\n",
        "# Obtener las clases predichas\n",
        "y_pred_classes = np.argmax(y_pred, axis=1)\n",
        "\n",
        "# Obtener las clases reales\n",
        "y_test_classes = np.argmax(y_test.values, axis=1)\n",
        "\n",
        "\n",
        "accuracy = accuracy_score(y_test_classes, y_pred_classes)\n",
        "print(f'Precisión: {accuracy}')\n",
        "\n",
        "from sklearn.metrics import confusion_matrix\n",
        "conf_matrix = confusion_matrix(y_test_classes, y_pred_classes)\n",
        "print('Matriz de Confusión:')\n",
        "print(conf_matrix)"
      ]
    }
  ],
  "metadata": {
    "colab": {
      "provenance": [],
      "toc_visible": true
    },
    "kernelspec": {
      "display_name": "Python 3",
      "language": "python",
      "name": "python3"
    },
    "language_info": {
      "codemirror_mode": {
        "name": "ipython",
        "version": 3
      },
      "file_extension": ".py",
      "mimetype": "text/x-python",
      "name": "python",
      "nbconvert_exporter": "python",
      "pygments_lexer": "ipython3",
      "version": "3.11.6"
    }
  },
  "nbformat": 4,
  "nbformat_minor": 0
}
