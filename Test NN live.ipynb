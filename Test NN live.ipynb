{
 "cells": [
  {
   "cell_type": "code",
   "execution_count": null,
   "metadata": {},
   "outputs": [],
   "source": [
    "from Funciones import*\n"
   ]
  },
  {
   "cell_type": "code",
   "execution_count": null,
   "metadata": {},
   "outputs": [],
   "source": [
    "import serial\n",
    "\n",
    "flagADC = True\n",
    "\n",
    "# Configura el puerto serial, ajusta el nombre del puerto según sea necesario\n",
    "puerto_serial = serial.Serial(\n",
    "    \"COM4\", 115200\n",
    ")  # Reemplaza 'COM3' con el nombre de tu puerto\n",
    "\n",
    "\n",
    "def read_binary_data(serial_port, data_size):\n",
    "    data = serial_port.read(data_size)  # Lee los datos binarios\n",
    "    return int.from_bytes(data, byteorder=\"little\")  # Convierte a un entero\n",
    "\n",
    "\n",
    "data_size = 2\n",
    "end_of_transmission_char = 0x04\n",
    "\n",
    "matriz_datos = []\n",
    "\n",
    "\n",
    "datos_fila = []\n",
    "\n",
    "    # Escuchar continuamente al puerto serial\n",
    "while flagADC:\n",
    "        # Intentar leer un dato\n",
    "    try:\n",
    "        linea_serial = read_binary_data(puerto_serial, data_size)\n",
    "        datos_fila.append(float(linea_serial))\n",
    "    except Exception as e:\n",
    "        print(f\"Error al leer datos: {e}\")\n",
    "        break\n",
    "\n",
    "        # Verificar si se ha recibido el carácter especial\n",
    "    if puerto_serial.in_waiting > 0:\n",
    "        if ord(puerto_serial.read()) == end_of_transmission_char:\n",
    "            flagADC= False\n",
    "            break\n"
   ]
  },
  {
   "cell_type": "code",
   "execution_count": null,
   "metadata": {},
   "outputs": [],
   "source": [
    "# muestras_test=[249.0, 138.0, 280.0, 130.0, 1027.0, 2516.0, 746.0, 2390.0, 1593.0, 1115.0, 794.0, 522.0, 462.0, 1261.0, 135.0, 4013.0, 745.0, 2034.0, 154.0, 2199.0, 428.0, 449.0, 319.0, 325.0, 693.0, 875.0, 4011.0, 263.0, 1147.0, 3008.0, 146.0, 490.0, 251.0, 189.0, 1900.0, 673.0, 4296.0, 522.0, 347.0, 1592.0, 265.0, 1891.0, 136.0, 1728.0, 681.0, 863.0, 3117.0, 1752.0, 362.0, 725.0, 1322.0, 699.0, 995.0, 564.0, 751.0, 585.0, 379.0, 2144.0, 1187.0, 1793.0, 2600.0, 3398.0, 1542.0, 1577.0, 1196.0, 399.0, 322.0, 3424.0, 298.0, 272.0, 130.0, 215.0, 132.0, 193.0, 129.0, 161.0, 131.0, 156.0, 133.0, 179.0, 137.0, 131.0, 258.0, 129.0, 171.0, 129.0, 240.0, 129.0, 179.0, 127.0, 163.0, 131.0, 154.0, 131.0, 160.0, 137.0, 136.0, 177.0, 132.0, 178.0, 131.0, 166.0, 132.0, 176.0, 131.0, 164.0, 131.0]\n",
    "\n",
    "# matriz_np = np.array(muestras_test, dtype=float)\n",
    "\n",
    "# muestras_test = matriz_np.reshape(1, -1)"
   ]
  },
  {
   "cell_type": "code",
   "execution_count": null,
   "metadata": {},
   "outputs": [],
   "source": [
    "\n",
    "muestras_test=[]\n",
    "\n",
    "muestras_test = datos_fila"
   ]
  },
  {
   "cell_type": "code",
   "execution_count": null,
   "metadata": {},
   "outputs": [],
   "source": [
    "coefs_test = []\n",
    "\n",
    "wavelet = 'coif6' \n",
    "nivel_descomposicion = 3  \n",
    "\n",
    "for muestras_rango in muestras_test:\n",
    "    coeficientes = transformadaWavelet(muestras_rango,wavelet,nivel_descomposicion)\n",
    "    coefs_test.append(coeficientes)\n",
    "\n",
    "\n",
    "recons_test = []\n",
    "\n",
    "for coefs in coefs_test:\n",
    "    senal_recons = reconstruccionWavelet(coefs,wavelet)\n",
    "    recons_test.append(senal_recons)\n",
    "\n",
    "datos_analizar = [recons_test]\n",
    "\n",
    "caract_MAV = calcular_caracteristica_lista(datos_analizar, calcular_MAV)\n",
    "caract_STD = calcular_caracteristica_lista(datos_analizar, calcular_STD)\n",
    "caract_RMS = calcular_caracteristica_lista(datos_analizar, calcular_RMS)\n",
    "caract_VAR = calcular_caracteristica_lista(datos_analizar, calcular_VAR)\n",
    "caract_WL = calcular_caracteristica_lista(datos_analizar, calcular_WL)\n",
    "caract_DMAV = calcular_caracteristica_lista(datos_analizar, calcular_DMAV)\n",
    "caract_SSC = calcular_caracteristica_lista(datos_analizar, calcular_SSC)\n",
    "\n",
    "X = [caract_MAV,caract_STD,caract_RMS,caract_VAR,caract_WL,caract_DMAV,caract_SSC]\n",
    "\n",
    "X = np.array(X).reshape(1, -1)\n",
    "\n",
    "from keras.models import load_model\n",
    "import numpy as np\n",
    "\n",
    "# Cargar el modelo desde el archivo\n",
    "loaded_model = load_model('NN Compiladas/modeloV2_sincoefs_sinnormalizar.h5')\n",
    "\n",
    "# Realizar predicciones en datos de prueba\n",
    "predictions = loaded_model.predict(X)\n",
    "\n",
    "# Obtener las etiquetas predichas como enteros\n",
    "predicted_labels = np.argmax(predictions, axis=1)\n",
    "\n",
    "# Mapear los enteros a los nombres de dedos\n",
    "finger_mapping = {0: 'Dedo_Anular', 1: 'Dedo_Índice', 2: 'Dedo_Medio'}\n",
    "\n",
    "# Convertir los enteros a nombres de dedos\n",
    "predicted_fingers = [finger_mapping[label] for label in predicted_labels]\n",
    "\n",
    "# Imprimir los dedos predichos\n",
    "print(\"Dedos predichos:\")\n",
    "print(predicted_fingers)"
   ]
  }
 ],
 "metadata": {
  "kernelspec": {
   "display_name": "Python 3",
   "language": "python",
   "name": "python3"
  },
  "language_info": {
   "codemirror_mode": {
    "name": "ipython",
    "version": 3
   },
   "file_extension": ".py",
   "mimetype": "text/x-python",
   "name": "python",
   "nbconvert_exporter": "python",
   "pygments_lexer": "ipython3",
   "version": "3.11.6"
  }
 },
 "nbformat": 4,
 "nbformat_minor": 2
}
