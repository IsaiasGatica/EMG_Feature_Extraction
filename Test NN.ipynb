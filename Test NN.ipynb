{
  "cells": [
    {
      "cell_type": "code",
      "execution_count": 31,
      "metadata": {},
      "outputs": [],
      "source": [
        "from Funciones import*\n"
      ]
    },
    {
      "cell_type": "code",
      "execution_count": 32,
      "metadata": {},
      "outputs": [],
      "source": [
        "import csv\n",
        "def cargar_matriz_desde_csv(nombre_archivo):\n",
        "    matriz = []\n",
        "    with open(nombre_archivo, 'r') as file:\n",
        "        reader = csv.reader(file)\n",
        "        for fila in reader:\n",
        "            matriz.append([float(elemento) for elemento in fila])\n",
        "    return matriz\n",
        "\n",
        "# Cargar las matrices desde los archivos CSV\n",
        "matriz_anular_V2 = cargar_matriz_desde_csv('RecordsV2/Matriz_Anular_V2.csv')\n",
        "matriz_indice_V2 = cargar_matriz_desde_csv('RecordsV2/Matriz_Indice_V2.csv')\n",
        "matriz_medio_V2 = cargar_matriz_desde_csv('RecordsV2/Matriz_Medio_V2.csv')\n",
        "\n",
        "\n",
        "def procesar_matriz(matriz):\n",
        "    # Encuentra la longitud máxima de las sublistas\n",
        "    longitud_maxima = max(len(sublista) for sublista in matriz)\n",
        "\n",
        "    # Rellena las sublistas con ceros para que tengan la misma longitud\n",
        "    matriz_corregida = [sublista + [0] * (longitud_maxima - len(sublista)) for sublista in matriz]\n",
        "\n",
        "    # Convierte la lista corregida en una matriz de numpy\n",
        "    matriz_np = np.array(matriz_corregida, dtype=float)\n",
        "\n",
        "    # Elimina la primera columna\n",
        "    matriz_np_sin_primera_fila = np.delete(matriz_np, 0, axis=0)\n",
        "\n",
        "    # Reemplaza los NaN con 0\n",
        "    matriz_procesada = np.nan_to_num(matriz_np_sin_primera_fila, nan=0.0)\n",
        "\n",
        "    return matriz_procesada\n",
        "\n",
        "matriz_anular_V2 = procesar_matriz(matriz_anular_V2)\n",
        "matriz_medio_V2 = procesar_matriz(matriz_medio_V2)\n",
        "matriz_indice_V2= procesar_matriz(matriz_indice_V2)\n",
        "\n",
        "matriz_anular_V2= matriz_anular_V2[:, :-15]\n",
        "matriz_medio_V2 = matriz_medio_V2 [:, :-15]\n",
        "matriz_indice_V2= matriz_indice_V2[:, :-15]\n",
        "\n",
        "dedo_input = input(\"Indice? Medio? Anular?\")\n",
        "\n",
        "if (dedo_input == \"Indice\"):\n",
        "    muestras_test =matriz_indice_V2\n",
        "if (dedo_input == \"Medio\"):\n",
        "    muestras_test =matriz_medio_V2\n",
        "if (dedo_input == \"Anular\"):\n",
        "    muestras_test =matriz_anular_V2    \n",
        "\n",
        "\n",
        "\n"
      ]
    },
    {
      "cell_type": "code",
      "execution_count": 33,
      "metadata": {},
      "outputs": [],
      "source": [
        "fila_deseada = int(input(\"Ingrese la fila a testear\"))\n",
        "muestras_test= muestras_test [fila_deseada, :].reshape(1, -1)\n",
        "\n"
      ]
    },
    {
      "cell_type": "code",
      "execution_count": 34,
      "metadata": {},
      "outputs": [],
      "source": [
        "coefs_test = []\n",
        "\n",
        "wavelet = 'coif6' \n",
        "nivel_descomposicion = 3  \n",
        "\n",
        "for muestras_rango in muestras_test:\n",
        "    coeficientes = transformadaWavelet(muestras_rango,wavelet,nivel_descomposicion)\n",
        "    coefs_test.append(coeficientes)\n",
        "\n"
      ]
    },
    {
      "cell_type": "code",
      "execution_count": 35,
      "metadata": {},
      "outputs": [],
      "source": [
        "recons_test = []\n",
        "\n",
        "for coefs in coefs_test:\n",
        "    senal_recons = reconstruccionWavelet(coefs,wavelet)\n",
        "    recons_test.append(senal_recons)\n"
      ]
    },
    {
      "cell_type": "code",
      "execution_count": 36,
      "metadata": {},
      "outputs": [],
      "source": [
        "\n",
        "datos_analizar = [recons_test]\n",
        "\n",
        "caract_MAV = calcular_caracteristica_lista(datos_analizar, calcular_MAV)\n",
        "caract_STD = calcular_caracteristica_lista(datos_analizar, calcular_STD)\n",
        "caract_RMS = calcular_caracteristica_lista(datos_analizar, calcular_RMS)\n",
        "caract_VAR = calcular_caracteristica_lista(datos_analizar, calcular_VAR)\n",
        "caract_WL = calcular_caracteristica_lista(datos_analizar, calcular_WL)\n",
        "caract_DMAV = calcular_caracteristica_lista(datos_analizar, calcular_DMAV)\n",
        "caract_SSC = calcular_caracteristica_lista(datos_analizar, calcular_SSC)\n"
      ]
    },
    {
      "cell_type": "code",
      "execution_count": 37,
      "metadata": {},
      "outputs": [],
      "source": [
        "\n",
        "# df = pd.DataFrame({\n",
        "#     'MAV':  caract_MAV[0] ,\n",
        "#     'STD':  caract_STD[0] ,\n",
        "#     'RMS':  caract_RMS[0] ,\n",
        "#     'VAR':  caract_VAR[0] ,\n",
        "#     'WL':   caract_WL[0]  , \n",
        "#     'DMAV': caract_DMAV[0] ,\n",
        "#     'SSC':  caract_SSC[0] ,\n",
        "# })\n"
      ]
    },
    {
      "cell_type": "code",
      "execution_count": 38,
      "metadata": {},
      "outputs": [],
      "source": [
        "# from sklearn.preprocessing import MinMaxScaler\n",
        "\n",
        "# X = df[['MAV', 'STD', 'RMS', 'VAR', 'WL', 'DMAV', 'SSC']]\n",
        "\n",
        "X = [caract_MAV,caract_STD,caract_RMS,caract_VAR,caract_WL,caract_DMAV,caract_SSC]\n",
        "\n",
        "X = np.array(X).reshape(1, -1)\n",
        "\n"
      ]
    },
    {
      "cell_type": "code",
      "execution_count": 39,
      "metadata": {},
      "outputs": [
        {
          "name": "stdout",
          "output_type": "stream",
          "text": [
            "1/1 [==============================] - 0s 36ms/step\n",
            "[[0.000000e+00 9.999999e-01 6.258939e-08]]\n"
          ]
        }
      ],
      "source": [
        "from keras.models import load_model\n",
        "import numpy as np\n",
        "\n",
        "# Cargar el modelo desde el archivo\n",
        "loaded_model = load_model('NN Compiladas/modeloV2_sincoefs_sinnormalizar.h5')\n",
        "\n",
        "# Realizar predicciones en datos de prueba\n",
        "predictions = loaded_model.predict(X)\n",
        "\n",
        "print(predictions)"
      ]
    },
    {
      "cell_type": "code",
      "execution_count": 40,
      "metadata": {},
      "outputs": [
        {
          "name": "stdout",
          "output_type": "stream",
          "text": [
            "Dedos predichos:\n",
            "['Dedo_Índice']\n"
          ]
        }
      ],
      "source": [
        "# Obtener las etiquetas predichas como enteros\n",
        "predicted_labels = np.argmax(predictions, axis=1)\n",
        "\n",
        "# Mapear los enteros a los nombres de dedos\n",
        "finger_mapping = {0: 'Dedo_Anular', 1: 'Dedo_Índice', 2: 'Dedo_Medio'}\n",
        "\n",
        "# Convertir los enteros a nombres de dedos\n",
        "predicted_fingers = [finger_mapping[label] for label in predicted_labels]\n",
        "\n",
        "# Imprimir los dedos predichos\n",
        "print(\"Dedos predichos:\")\n",
        "print(predicted_fingers)"
      ]
    }
  ],
  "metadata": {
    "colab": {
      "provenance": [],
      "toc_visible": true
    },
    "kernelspec": {
      "display_name": "Python 3",
      "language": "python",
      "name": "python3"
    },
    "language_info": {
      "codemirror_mode": {
        "name": "ipython",
        "version": 3
      },
      "file_extension": ".py",
      "mimetype": "text/x-python",
      "name": "python",
      "nbconvert_exporter": "python",
      "pygments_lexer": "ipython3",
      "version": "3.11.6"
    }
  },
  "nbformat": 4,
  "nbformat_minor": 0
}
